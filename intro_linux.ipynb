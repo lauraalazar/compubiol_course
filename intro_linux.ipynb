{
 "cells": [
  {
   "attachments": {},
   "cell_type": "markdown",
   "metadata": {},
   "source": [
    "# Cómo leer este documento\n",
    "\n",
    "Los comandos para digitar están en casillas grises, así\n"
   ]
  },
  {
   "cell_type": "code",
   "execution_count": null,
   "metadata": {
    "vscode": {
     "languageId": "shellscript"
    }
   },
   "outputs": [],
   "source": [
    "ls "
   ]
  },
  {
   "attachments": {},
   "cell_type": "markdown",
   "metadata": {},
   "source": [
    "entre corchetes se designan teclas, por ejemplo ``[ctl]`` es la tecla ctl"
   ]
  },
  {
   "attachments": {},
   "cell_type": "markdown",
   "metadata": {},
   "source": [
    "# Introducción a Linux\n",
    "\n",
    "\n",
    "## Qué es Linux\n",
    "[Linux](https://www.linux.com/what-is-linux/) es un sistema operativo muy versátil. Tiene una curva de aprendizaje que requiere cierto nivel de paciencia, pero afortunadamente hay múltiples [tutoriales] \n",
    "(https://ryanstutorials.net/linuxtutorial/)\n",
    "\n",
    "## Uso de linux\n",
    "- Sólo Linux: Ubuntu \n",
    "- En Windows: [Windows Subsystem for Linux](https://docs.microsoft.com/en-us/windows/wsl/install-win10)\n",
    "o como una [Virtual Machine](https://helpdeskgeek.com/linux-tips/how-to-install-ubuntu-in-virtualbox/) \n",
    "o [Cygwin]{https://www.cygwin.com/}\n",
    "\n",
    "## Comandos básicos\n",
    "En linux es usual el uso de la terminal \n",
    "\n",
    "\n",
    "\n"
   ]
  },
  {
   "attachments": {},
   "cell_type": "markdown",
   "metadata": {},
   "source": [
    "<figure>\n",
    "<img src=\"terminal_icon.png\" width=150 height=150 />\n"
   ]
  },
  {
   "attachments": {},
   "cell_type": "markdown",
   "metadata": {},
   "source": [
    " Este es un ambiente menos gráfico pero mas sencillo para dar instrucciones...sin embargo hay que saber como darlas para que el sistema responda."
   ]
  },
  {
   "attachments": {},
   "cell_type": "markdown",
   "metadata": {},
   "source": [
    "### ls (listar)\n",
    "Cuando se entra al sistema, el directorio donde uno se encuentra es el *home*. Para saber que hay dentro de *home*, escribimos\n"
   ]
  },
  {
   "cell_type": "code",
   "execution_count": null,
   "metadata": {
    "vscode": {
     "languageId": "shellscript"
    }
   },
   "outputs": [],
   "source": [
    "ls"
   ]
  },
  {
   "attachments": {},
   "cell_type": "markdown",
   "metadata": {},
   "source": [
    "El comando ls lista el contenido de directorio de trabajo (current directory). \n",
    "\n",
    "Pero ls no lista realmene todos los archivos, solo aquellos que son visibles. Los archivos que comienzan con un punto (.) y se conocen como ocultos. Usualmente contienen informacion importante de configuracion que no debe ser alterada, a menos que sepamos bien que estamos haciendo.\n",
    "\n",
    "\n",
    "Ahora listemos todos los archivos del directorio, incluyendo los ocultos:"
   ]
  },
  {
   "cell_type": "code",
   "execution_count": null,
   "metadata": {
    "vscode": {
     "languageId": "shellscript"
    }
   },
   "outputs": [],
   "source": [
    "ls -a"
   ]
  },
  {
   "attachments": {},
   "cell_type": "markdown",
   "metadata": {},
   "source": [
    "ls es un ejemplo de un comando con opciones: -a es un ejemplo de una opción. Las opciones cambianel comportamiento del comando. \n",
    "\n",
    "<div class=\"alert alert-block alert-warning\">\n",
    "<b>Nota 1:</b> los nombres de archivos en linux son sensibles a mayúsculas y minúsculas (*case sensitive*), i.e. Test.txt es diferente de test.txt y ambos archivos pueden coexistir en una carpeta. \n",
    "<b>Nota 2:</b> los espacios generan muchos errores en los nombres de archivos y carpetas. Es mejor reemplazarlos por guión inferior, i.e Texto Final 2.txt reemplazar por Texto\\_Final\\_2.txt </div>\n",
    "\n",
    "## Estructura de los directorios\n",
    "\n",
    "Todos los archivos están  agrupados en la estructura del directorio y esta estructura es jerárquica. \n",
    "\n",
    "<img src=\"unix-tree.png\" width=400 height=400 />\n",
    "\n",
    "Para saber donde nos encontramos en la estructura del directorio usamos el comando \"print working directory\"\n",
    "\n"
   ]
  },
  {
   "cell_type": "code",
   "execution_count": null,
   "metadata": {
    "vscode": {
     "languageId": "shellscript"
    }
   },
   "outputs": [],
   "source": [
    "pwd"
   ]
  },
  {
   "attachments": {},
   "cell_type": "markdown",
   "metadata": {},
   "source": [
    "## Crear directorios\n",
    "\n",
    "### mkdir (make directory)\n",
    "Utilizamos este comando para crear un subdirectorio en el directorio donde estamos\n"
   ]
  },
  {
   "cell_type": "code",
   "execution_count": null,
   "metadata": {
    "vscode": {
     "languageId": "powershell"
    }
   },
   "outputs": [],
   "source": [
    "mkdir biocomp_clase1"
   ]
  },
  {
   "attachments": {},
   "cell_type": "markdown",
   "metadata": {},
   "source": [
    "Para ver el directorio que acabamos de crear escribimos"
   ]
  },
  {
   "cell_type": "code",
   "execution_count": null,
   "metadata": {
    "vscode": {
     "languageId": "powershell"
    }
   },
   "outputs": [],
   "source": [
    "ls"
   ]
  },
  {
   "attachments": {},
   "cell_type": "markdown",
   "metadata": {},
   "source": [
    "<div class=\"alert alert-block alert-info\">\n",
    "<b>Ejercicio</b> crea una carpeta dentro de biocomp_clase1 que se llame \"ejercicios\"</div>"
   ]
  },
  {
   "attachments": {},
   "cell_type": "markdown",
   "metadata": {},
   "source": [
    "## Cambiar directorios\n",
    "\n",
    "### cd (change directory)\n",
    "Utilizamos este comando para cambiar del directorio donde estamos a otro directorio. Para \"entrar\" al directorio que acabamos de crear escribirmos"
   ]
  },
  {
   "cell_type": "code",
   "execution_count": null,
   "metadata": {
    "vscode": {
     "languageId": "shellscript"
    }
   },
   "outputs": [],
   "source": [
    "cd biocomp_clase1"
   ]
  },
  {
   "attachments": {},
   "cell_type": "markdown",
   "metadata": {},
   "source": [
    "Escriba ls para ver qué hay en el directorio (debería estar vacío).\n",
    "Para volver al directorio parental escribimos"
   ]
  },
  {
   "cell_type": "code",
   "execution_count": null,
   "metadata": {
    "vscode": {
     "languageId": "shellscript"
    }
   },
   "outputs": [],
   "source": [
    "cd .."
   ]
  },
  {
   "attachments": {},
   "cell_type": "markdown",
   "metadata": {},
   "source": [
    "Si seguimos escribiendo <span style='font-family:\"Times New Roman\"; color:Blue'> cd ..  </span> recurrentemente vamos subiendo en la jerarquía de directorios\n",
    "\n",
    "### ~ (home)\n",
    "Si escribimos <span style='font-family:\"Times New Roman\"; color:Blue'> cd  </span> sin puntos llegamos al directorio home. Este se denota también como <span style='color:Blue'> <span style='font-family:\"Times New Roman\"'> ~  </span> \n"
   ]
  },
  {
   "cell_type": "code",
   "execution_count": null,
   "metadata": {
    "vscode": {
     "languageId": "shellscript"
    }
   },
   "outputs": [],
   "source": [
    "ls ~/"
   ]
  },
  {
   "attachments": {},
   "cell_type": "markdown",
   "metadata": {},
   "source": [
    "## Copiar archivos\n",
    "### cp (copy)\n",
    "\n",
    "El comando para copiar un archivo arch1 en el directorio actual a un archivo identico pero nombrado arch2 es:"
   ]
  },
  {
   "cell_type": "code",
   "execution_count": null,
   "metadata": {
    "vscode": {
     "languageId": "shellscript"
    }
   },
   "outputs": [],
   "source": [
    " cp arch1 arch2"
   ]
  },
  {
   "attachments": {},
   "cell_type": "markdown",
   "metadata": {},
   "source": [
    "Ahora vamos a tomar un archivo de internet y a usar el comando cp para copiarlo en el directorio que creamos.\n",
    "\n",
    "Primero, cd al directorio biocomp_clase1:"
   ]
  },
  {
   "cell_type": "code",
   "execution_count": null,
   "metadata": {
    "vscode": {
     "languageId": "shellscript"
    }
   },
   "outputs": [],
   "source": [
    "cd ~/biocomp_clase1"
   ]
  },
  {
   "attachments": {},
   "cell_type": "markdown",
   "metadata": {},
   "source": [
    "Luego escribe:"
   ]
  },
  {
   "cell_type": "code",
   "execution_count": null,
   "metadata": {
    "vscode": {
     "languageId": "shellscript"
    }
   },
   "outputs": [],
   "source": [
    "curl http://www.ee.surrey.ac.uk/Teaching/Unix/science.txt -o science.txt"
   ]
  },
  {
   "attachments": {},
   "cell_type": "markdown",
   "metadata": {},
   "source": [
    "<div class=\"alert alert-block alert-info\">\n",
    "<b>Ejercicio</b> crea una copia backup del archivo \"science.txt\" que descargaste, llamada \"science.bak\" </div>"
   ]
  },
  {
   "attachments": {},
   "cell_type": "markdown",
   "metadata": {},
   "source": [
    "### Usando [TAB]"
   ]
  },
  {
   "attachments": {},
   "cell_type": "markdown",
   "metadata": {},
   "source": [
    "``[TAB]`` es muy útil en la línea de comandos de Linux: completa automaticamente los comandos que se utilizan. Intenta, por ejemplo, ``$ cd ~/bioc`` y después ``TAB``. Esto también ayudará a hacer sugerencias en caso de múltiples opciones."
   ]
  },
  {
   "attachments": {},
   "cell_type": "markdown",
   "metadata": {},
   "source": [
    "### Moviendo archivos \n",
    "\n",
    "**mv (move)**\n",
    "\n",
    "``mv arch1 arch2`` mueve o cambia el nombre de ``arch1`` a ``arch2`` y por lo tanto solo queda un \n",
    "\n",
    "Vamos a mover el archivo ``science.bak`` a al folder ``ejercicios`` creado previamente.\n",
    "\n",
    "Primero, cambia de directorio a ``biocomp_clase1``. Despué escribe:\n",
    "\n",
    "```\n",
    "$ mv science.bak ejercicios/\n",
    "```\n",
    "\n",
    "escribe ``ls`` y ``ls backup`` para ver si funcionó."
   ]
  },
  {
   "attachments": {},
   "cell_type": "markdown",
   "metadata": {},
   "source": [
    "### Remover archivos y directorios "
   ]
  },
  {
   "attachments": {},
   "cell_type": "markdown",
   "metadata": {},
   "source": [
    "**rm (remove), rmdir (remove directory)**\n",
    "\n",
    "Para borrar (remover) un archivos, usamos el comando ``rm`` command. Como ejemplo, vamos a crear una copia del archivo ``science.txt`` y borrarlo.\n",
    "\n",
    "dentro del directorio ``biocomp_clase1``, escribe:\n",
    "\n",
    "```\n",
    " cp science.txt tempfile.txt \n",
    " ls\n",
    " rm tempfile.txt\n",
    " ls\n",
    "```\n",
    "\n",
    "Puedes utilizar el comando ``rmdir`` para remover el directorio (aségurate primero que esté vacío). Intenta remover el directorio ``backup``. No podrás porque linux no te permitirá remover un directorio que no está vacío. Para borrar un directorio (que no esté vacío) con sus subdirectorios puedes usar ``-r`` (recursivo):\n",
    "\n",
    "```\n",
    " rm -r /path/directory\n",
    "```\n",
    "\n",
    "Este comando pedirá confirmación para algunos archivos que sean importantes. Si estás absolutamente seguro de este paso, puedes añadir el comando ``-f`` (f de forzar):\n",
    "\n",
    "```\n",
    " rm -rf /path/delete\n",
    "```\n",
    "<div class=\"alert alert-block alert-danger\">\n",
    "<b>Atención</b> Los directorios que se borran con ``rm`` se pierden *para siempre*. No van a ni siquiera a la papelera, si borran directamente.\n",
    " </div>"
   ]
  },
  {
   "attachments": {},
   "cell_type": "markdown",
   "metadata": {},
   "source": [
    "### Mostrar los contenidos de un archivo en la pantalla"
   ]
  },
  {
   "attachments": {},
   "cell_type": "markdown",
   "metadata": {},
   "source": [
    "**less**\n",
    "\n",
    "El comando ``less`` muestra los contenidos de un archivo en la pantalla. Escribe:\n",
    "\n",
    "```\n",
    " less science.txt\n",
    "```\n",
    "\n",
    "Presiona la ``[barra-espaciadora]`` si quieres continuar hacia abajo, y escribe ``[q]`` si quieres terminar la lectura. \n",
    "\n",
    " \n",
    "**head**\n",
    "\n",
    "El comando ``head`` muestra las diez primeras lineas de un archivo en la pantalla:\n",
    "\n",
    "```\n",
    "head science.txt\n",
    "```\n",
    "\n",
    "luego escribe:\n",
    "\n",
    "```\n",
    "head -5 science.txt\n",
    "```\n",
    "\n",
    "Qué diferencia hizo el ``-5`` en el comando?\n",
    "\n",
    " \n",
    "**tail**\n",
    "\n",
    "El comando tail muestra las últimas 10 lineas de un archivo:\n",
    "\n",
    "```\n",
    "tail science.txt\n",
    "```"
   ]
  },
  {
   "attachments": {},
   "cell_type": "markdown",
   "metadata": {},
   "source": [
    "<div class=\"alert alert-block alert-info\">\n",
    "<b>Ejercicio</b> Como podrías ver las últimas 15 lineas de un archivo? </div>"
   ]
  },
  {
   "attachments": {},
   "cell_type": "markdown",
   "metadata": {},
   "source": [
    "### Searching the contents of a file"
   ]
  },
  {
   "attachments": {},
   "cell_type": "markdown",
   "metadata": {},
   "source": [
    "**Búsequeda Simple usando ``less``**\n",
    "\n",
    "Usando ``less``, se puede buscar dentro de un archivo de texto palabras (un patrón). Por ejemplo, para buscar dentro del archivo ``science.txt`` la palabra \"science\", escribimos:\n",
    "\n",
    "```\n",
    "less science.txt\n",
    "```\n",
    "\n",
    "después, aún en ``less``, escribe slash ``[/]`` seguido por la palabra a buscar:\n",
    "\n",
    "```\n",
    "/science\n",
    "```\n",
    "\n",
    "Y ``[enter]``. Escribe ``[n]`` para buscar por la siguiente ocurrencia en el texto.\n",
    "\n",
    " \n",
    "**grep**\n",
    "\n",
    "``grep`` busca en el archivo palabras o patrones dentro de un texto:\n",
    "\n",
    "```\n",
    "grep science science.txt\n",
    "```\n",
    "\n",
    "Como se puede ver, ``grep`` muestra cada línea que contiene la palabra science.\n",
    "Ahora intente escribir la palabra con mayúscula:\n",
    "\n",
    "```\n",
    "grep Science science.txt\n",
    "```\n",
    "\n",
    "El comando ``grep`` es \"case sensitive\", distingue entre S y s.\n",
    "\n",
    "Para ignorar distinciones entre mayúsculas y minúsculas, utilice la opción ``-i``:\n",
    "\n",
    "```\n",
    "grep -i science science.txt\n",
    "```\n",
    "\n",
    "Para buscar una frase o patrón, se debe encerrarla entre comillas. Por ejemplo, para buscar spinning top, escriba:\n",
    "\n",
    "```\n",
    "grep -i 'spinning top' science.txt\n",
    "```\n",
    "\n",
    "Otras opciones de ``grep`` son:\n",
    "- ``-v`` muestra las líneas que NO contienen el patrón\n",
    "- ``-n`` precede cada línea que contiene el patrón con el número de línea\n",
    "- ``-c`` muestra el número total de líneas que contienen el patrón\n",
    "\n",
    "Intente las diferentes opciones y sus combinaciones. Se pueden utilizar mas de una opción al mismo tiempo! Por ejemplo, el número de líneas sin la palabra science or Science es:\n",
    "\n",
    "```\n",
    "grep -ivc science science.txt\n",
    "```"
   ]
  },
  {
   "attachments": {},
   "cell_type": "markdown",
   "metadata": {},
   "source": [
    "### Conclusiones: la línea de comando\n",
    "\n",
    "La línea de comando de linux es muy poderoso. Tan poderoso que la gran mayoría de los servidores y super computadoras del mundo funcionan con los sistemas linux (sin interfase gráfica, i.e. usando solamente la línea de comando).\n",
    "\n",
    "Aquí navegamos por algunos ejemplos simples, pero esto es solo un \"abre-bocas\". Por ejemplo, el comando ``grep`` es muy importante y útil para buscar patrones, and ``wget`` para bajar archivos. Ambos comandos mucho mas rápidos que si se usaran la interfase gráfica.\n",
    "\n",
    "Para profundizar sobre linux hay varios tutoriales, por ejemplo [tutorial linux](https://ryanstutorials.net/linuxtutorial/) o [este](https://swcarpentry.github.io/shell-novice/) recomendado por una compañera del curso "
   ]
  },
  {
   "attachments": {},
   "cell_type": "markdown",
   "metadata": {},
   "source": [
    "## Scripts Ejecutables\n",
    "\n",
    "Ahora que ya estamos un poco familiarizados con la línea de comando, vamos a utilizar algunas herramientas básicas de programación: al digitar un comando, este da una instrucción para recibir una inofrmación. Este proceso se puede **automatizar** (por ejemplo mover, renombrar y copiar archivos), escribiendo el comando en un **script**. \n",
    "\n",
    "Los scripts son la forma mas simple de escribir un programa. Vamos a escribir un **script bash** y a ejecutarlo.\n",
    "\n",
    "Dentro del directorio ``biocomp_clase1`` vamos a crear un nuevo archivo llamado ``miscript.sh``. Puedes hacer esto utilizando un  editor de texto de terminal llamado ``nano``\n",
    "\n",
    "```\n",
    "nano miscript.sh\n",
    "```\n",
    "\n",
    "Este comando inicia el editor de texto. A continuación escriba ``echo Hello World!``. \"Hello World!\" es una frase icónica en programación y \"echo\" es una instrucción que reproduce el texto que sigue. Guarde el archivo usando ``[ctrl-o] [enter]``  y cierre el programa con ``[ctrl-x]``. En la terminal, ejecute el script con el siguiente comando:\n",
    "\n",
    "```\n",
    "bash miscript.sh\n",
    "```\n",
    "\n",
    "**Bash** es un \"interpretador\" que lee el archivo y entiende cómo ejecutar el comando."
   ]
  },
  {
   "attachments": {},
   "cell_type": "markdown",
   "metadata": {},
   "source": [
    "Otra opción para editor de text es *Vim*, aunque requiere mas comandos para cada instrucción, está disponible en casi todas la instalaciones de linux "
   ]
  },
  {
   "cell_type": "code",
   "execution_count": null,
   "metadata": {
    "vscode": {
     "languageId": "shellscript"
    }
   },
   "outputs": [],
   "source": [
    "vim miscript.sh"
   ]
  },
  {
   "attachments": {},
   "cell_type": "markdown",
   "metadata": {},
   "source": [
    "Después, presione la tecla ``[i]`` para entrar en modo de inserción. \n",
    "En la parte inferior debe aparecer *-- INSERT --* y entonces puede añadirl el texto \"echo Hello World!\".\n",
    "Para guardar y salir de Vim haga lo siguiente: \n",
    "\n",
    "1. Cambie a modo de comando presionando ``[Esc]``\n",
    "\n",
    "2. Escriba ``[:]`` (dos puntos) para abrir la barra prompt bar en la esquina inferior izquierda.\n",
    "\n",
    "3. Escriba ``[x]`` después de \":\" y  ``[Enter]``"
   ]
  },
  {
   "attachments": {},
   "cell_type": "markdown",
   "metadata": {},
   "source": [
    "### Hacer un archivo ejecutable"
   ]
  },
  {
   "attachments": {},
   "cell_type": "markdown",
   "metadata": {},
   "source": [
    "Liste los archivos en el directorio con la opción ``-l`` para mas información. Here is how it looks like on MyBinder:\n",
    "\n",
    "```\n",
    "ls -l\n",
    "total 12\n",
    "-rw-r--r-- 1 usuario root   18 Jun 26 10:56 miscript.sh\n",
    "```\n",
    "\n",
    "La primera lista de caracteres indica los **permisos** del archivo. Aquí vemos que el usuario tiene permiso de lectura (``r``) y escritura (``w``), pero no de ejecución. \n",
    "Para entender mejor este tema puede consultar este [tutorial sobre permisos](https://ryanstutorials.net/linuxtutorial/permissions.php). Vamos a cambiar el permiso de ejecución \n",
    "\n",
    "```\n",
    "chmod a+x miscript.sh\n",
    "```\n",
    "\n",
    "Ahora todos los usuarios tienen permiso para ejecutar el archivo. Como es un script muy simple y sin consecuencias, no nos preocupa que todos tengan permisos. En otros casos es muy importante tener cuidado. Ahora lo podemos ejecutar:\n",
    "\n",
    "```\n",
    "./myscript.sh\n",
    "```\n",
    "\n",
    "\n",
    "<div class=\"alert alert-block alert-warning\">\n",
    "<b>Ejemplo de script:</b> Con frecuencia se recomienda añadir una primera línea en el script que indica el interpretador que se debe usar. En este caso es el interpretador por defecto (bash), pero no es siempre el caso. Además se usa escribir una línea que describe el propósito del script y que está precedida por el símbolo ``#`` que indica que es un comentario\n",
    "\n",
    "```\n",
    "#!/bin/bash\n",
    "# Script de ejemplo para la práctica 1 de Comp. Biol\n",
    "\n",
    "echo Hello World!\n",
    "```"
   ]
  },
  {
   "attachments": {},
   "cell_type": "markdown",
   "metadata": {},
   "source": [
    "## Variables, declaraciones y loops"
   ]
  },
  {
   "attachments": {},
   "cell_type": "markdown",
   "metadata": {},
   "source": [
    "Una variable es un término que contiene almacenada un dato con información simple y que puede cambiar el dato. \n"
   ]
  },
  {
   "cell_type": "code",
   "execution_count": null,
   "metadata": {
    "vscode": {
     "languageId": "shellscript"
    }
   },
   "outputs": [],
   "source": [
    "counter=1\n",
    "echo $counter \n",
    "1\n",
    "echo counter\n",
    "counter"
   ]
  },
  {
   "attachments": {},
   "cell_type": "markdown",
   "metadata": {},
   "source": [
    "Qué diferencia hay entre ``counter`` y ``$counter``? Que la segunda es una **variable** y por lo tanto puede tomar cualquier valor según lo definamos. "
   ]
  },
  {
   "attachments": {},
   "cell_type": "markdown",
   "metadata": {},
   "source": [
    "### If"
   ]
  },
  {
   "attachments": {},
   "cell_type": "markdown",
   "metadata": {},
   "source": [
    "Una declaracion (statement) condicional es **if** y determina que, si un chequeo es verdadero, realice una acción, y si es falso no lo haga. **If** tiene el siguiente formato:"
   ]
  },
  {
   "attachments": {},
   "cell_type": "markdown",
   "metadata": {},
   "source": [
    "``if [ <un chequeo> ]``\n",
    "\n",
    "``then``\n",
    "\n",
    "   ``<comando>``\n",
    "\n",
    "``fi``"
   ]
  },
  {
   "attachments": {},
   "cell_type": "markdown",
   "metadata": {},
   "source": [
    "Todo lo que esté entre *then* y *fi* se ejecutará solamente is el chequeo (entre corchetes) es verdadero.\n",
    "Un ejemplo simple"
   ]
  },
  {
   "cell_type": "code",
   "execution_count": null,
   "metadata": {
    "vscode": {
     "languageId": "shellscript"
    }
   },
   "outputs": [],
   "source": [
    "num1=10\n",
    "num2=5\n",
    "\n",
    "if [ $num1 -gt $num2 ]; then  \n",
    "echo \"num1 es $num1 y es mayor que $num2\"\n",
    "fi"
   ]
  },
  {
   "attachments": {},
   "cell_type": "markdown",
   "metadata": {},
   "source": [
    "Haga el ejercicio de invertir el chequeo entre corchetes y observe que pasa"
   ]
  },
  {
   "attachments": {},
   "cell_type": "markdown",
   "metadata": {},
   "source": [
    "### While loop"
   ]
  },
  {
   "attachments": {},
   "cell_type": "markdown",
   "metadata": {},
   "source": [
    "Los loops son muy importantes porque permiten que un comando corra recurrentemente hasta que suceda una situación declarada (statement) o la expresión sea falsa. Este principio es fundamental para la automatización. \n",
    "El loop **while** define que, mientras una expresión es verdadera, continúe ejecutando las líneas de código. Tiene el siguiente formato \n",
    "\n",
    "``while [ un chequeo ]``\n",
    "\n",
    "``do``\n",
    "\n",
    "   ``<comando>``\n",
    "\n",
    "``done``"
   ]
  },
  {
   "attachments": {},
   "cell_type": "markdown",
   "metadata": {},
   "source": [
    "Ahora vamos a escribir un loop para imprimir los numeros del 1 al 10"
   ]
  },
  {
   "cell_type": "code",
   "execution_count": null,
   "metadata": {
    "vscode": {
     "languageId": "shellscript"
    }
   },
   "outputs": [],
   "source": [
    "counter=1\n",
    "while [ $counter -le 10 ]\n",
    "do\n",
    "echo $counter\n",
    "((counter++))\n",
    "done"
   ]
  },
  {
   "attachments": {},
   "cell_type": "markdown",
   "metadata": {},
   "source": [
    "Vamos a descomponer las líneas: \n",
    "- Linea 1: inicializa la variable **counter** con un valor.\n",
    "- Linea 2: Chequea que mientras (**While**) la declaración es verdad (counter es menor o igual a 10) \n",
    "- Linea 3: ejecutemos el siguiente comando.\n",
    "- Linea 4: aquí podemos poner cualquier comando. En este caso **echo** se utiliza porque es simple para ilustrar el propósito.\n",
    "- Linea 6: incrementamos la variable **counter** por 1 [counter++].\n",
    "- Linea 7: al final del loop, vuelve al inicio a hacer el chequeo. Si es verdad, ejecuta el comando, si es falso conitnua a la siguiente linnea.\n",
    "\n",
    "Este programa que ejecutamos en la terminal lo podemos escribir en un script para correrlo las veces que necesitemos y para registrar lo que hicimos"
   ]
  },
  {
   "cell_type": "code",
   "execution_count": null,
   "metadata": {
    "vscode": {
     "languageId": "shellscript"
    }
   },
   "outputs": [],
   "source": [
    "$ nano while_loop.sh\n",
    "\n",
    "#!/bin/bash\n",
    "# Basic while loop\n",
    "counter=1\n",
    "while [ $counter -le 10 ]\n",
    "do\n",
    "echo $counter\n",
    "((counter++))\n",
    "done"
   ]
  },
  {
   "attachments": {},
   "cell_type": "markdown",
   "metadata": {},
   "source": [
    "``[ctrl-o] [enter]`` y ``[ctrl-x]``"
   ]
  },
  {
   "attachments": {},
   "cell_type": "markdown",
   "metadata": {},
   "source": [
    "<div class=\"alert alert-block alert-info\">\n",
    "<b>Ejercicio</b> Haga el script ejecutable y córralo </div>"
   ]
  },
  {
   "attachments": {},
   "cell_type": "markdown",
   "metadata": {},
   "source": [
    "### For loop"
   ]
  },
  {
   "attachments": {},
   "cell_type": "markdown",
   "metadata": {},
   "source": [
    "Este loop toma cada item en una lista (en orden, uno después del otro), asigna ese item como valor a la variable **var**, ejecuta los comandos entre **do** y **done** y vuelve al inicio para tomar el siguiente item y repetir recurrentemente.  Tiene la siguiente sintaxis:"
   ]
  },
  {
   "attachments": {},
   "cell_type": "markdown",
   "metadata": {},
   "source": [
    "``for var in <list>``\n",
    "\n",
    "``do``\n",
    "\n",
    "   ``<comando>``\n",
    "\n",
    "``done``"
   ]
  },
  {
   "attachments": {},
   "cell_type": "markdown",
   "metadata": {},
   "source": [
    "El siguiente ejemplo ilustra su uso en un directorio que contiene los archivos fasta de secuencias de covid19. Primero vamos a crear un directorio que se llame **sars_covid19** y luego vamos a descargar allí las secuencias del:\n",
    "- genoma\n",
    "- proteinas\n",
    "- cds (genes codificadores de proteínas)"
   ]
  },
  {
   "cell_type": "code",
   "execution_count": null,
   "metadata": {
    "vscode": {
     "languageId": "shellscript"
    }
   },
   "outputs": [],
   "source": [
    "mkdir sars_covid19\n",
    "curl http://ftp.ensemblgenomes.org/pub/viruses/fasta/sars_cov_2/dna/Sars_cov_2.ASM985889v3.dna_rm.toplevel.fa.gz -o ./sars_covid19/Sars_cov.dna.fa.gz\n",
    "curl http://ftp.ensemblgenomes.org/pub/viruses/fasta/sars_cov_2/pep/Sars_cov_2.ASM985889v3.pep.all.fa.gz -o ./sars_covid19/Sars_cov.prot.fa.gz\n",
    "curl http://ftp.ensemblgenomes.org/pub/viruses/fasta/sars_cov_2/cds/Sars_cov_2.ASM985889v3.cds.all.fa.gz -o ./sars_covid19/Sars_cov.cds.fa.gz\n",
    " "
   ]
  },
  {
   "attachments": {},
   "cell_type": "markdown",
   "metadata": {},
   "source": [
    "**curl** (\"Client url\") es un comando de línea que permite comunicarse con un servidor. La opción ``-o`` le asigna un nombre al archivo (en este caso simplificamos el nombre). Donde crees que quedaron los archivos?"
   ]
  },
  {
   "cell_type": "code",
   "execution_count": null,
   "metadata": {
    "vscode": {
     "languageId": "shellscript"
    }
   },
   "outputs": [],
   "source": [
    "cd sars-covid19\n",
    "ls\n",
    "gunzip *.gz"
   ]
  },
  {
   "attachments": {},
   "cell_type": "markdown",
   "metadata": {},
   "source": [
    "Cuando descargamos los archivos los nombramos con un ``./sars_covid`` que precede al nombre. Esto indica que lo guarde en el directorio llamado ``sars_covid`` que esta dentro del directorio donde nos encontramos ``.`` "
   ]
  },
  {
   "cell_type": "code",
   "execution_count": null,
   "metadata": {
    "vscode": {
     "languageId": "shellscript"
    }
   },
   "outputs": [],
   "source": [
    "for f in $(ls);\n",
    "    do wc -l $f;\n",
    "        done"
   ]
  },
  {
   "attachments": {},
   "cell_type": "markdown",
   "metadata": {},
   "source": [
    "Note como listamos el directorio usando ``ls`` y lo encerramos en el comanod  ``$()``. Esto nos permite crear una variable que contiene el resultado del comando ``ls``. \n",
    "Luego iteramos sobre cada item del directorio **sars_covid19** y contamos el número de líneas con ``wc -l``"
   ]
  },
  {
   "attachments": {},
   "cell_type": "markdown",
   "metadata": {},
   "source": [
    "<div class=\"alert alert-block alert-info\">\n",
    "<b>Ejercicio Evaluable</b> \n",
    "\n",
    " 1) Entrar a NCBI https://www.ncbi.nlm.nih.gov/\n",
    "\n",
    "2) Escoger en el tipo de base de datos \"Protein\"\n",
    "\n",
    "3) En el campo de búsqueda escribir el identificador \"AEO86768\"\n",
    "\n",
    "4) Escoger el formato \"fasta\"\n",
    "\n",
    "5) Ir a \"send to\" y escoger \"file\"\n",
    "\n",
    "6) Descargar la secuencia \n",
    "\n",
    "7) Crear una carpeta nueva \n",
    "\n",
    "8) Renombrar el archivo descargado (debería estar en \"~/Downloads\") y copiarlo en la nueva carpeta\n",
    "\n",
    "9) Repetir el proceso con los siguientes identificadores en NCBI: \"AHN64774\", \"AAZ67052\", \"QIQ54048\"\n",
    "\n",
    "10) crear un script en bash (con el encabezado sobre el interpretador y un comentario del propósito) que itere sobre los archivos del directorio y despliegue los nombres de los archivos. Nombre el script script_eval1_sunombre.sh\n",
    "\n",
    "11) ejecute script_eval1_sunombre.sh (tenga en cuenta los permisos)\n",
    "\n",
    "12) ejecute el comando: cat script_eval1_sunombre.sh > reporte1.txt\n",
    "\n",
    "13) Ejecute el comando: history >> reporte1.txt\n",
    "\n",
    "14) Suba por la asignación de tarea de Teams el archivo reporte.txt\n",
    "  </div>"
   ]
  }
 ],
 "metadata": {
  "kernelspec": {
   "display_name": "Python 3 (ipykernel)",
   "language": "python",
   "name": "python3"
  },
  "language_info": {
   "codemirror_mode": {
    "name": "ipython",
    "version": 3
   },
   "file_extension": ".py",
   "mimetype": "text/x-python",
   "name": "python",
   "nbconvert_exporter": "python",
   "pygments_lexer": "ipython3",
   "version": "3.8.1"
  },
  "widgets": {
   "application/vnd.jupyter.widget-state+json": {
    "state": {},
    "version_major": 2,
    "version_minor": 0
   }
  }
 },
 "nbformat": 4,
 "nbformat_minor": 4
}
