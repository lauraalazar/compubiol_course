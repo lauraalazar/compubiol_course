{
 "cells": [
  {
   "attachments": {},
   "cell_type": "markdown",
   "metadata": {},
   "source": [
    "# Introducción a Biopython\n",
    "\n",
    "El proyecto de [Biopython](http://www.biopython.org) es una asociación internacional de desarrolladores del lenguaje [Python](https://www.python.org) con aplicación a biología molecular computacional. Es de libre acceso y está muy bien documentado, para mayor profundidad consulte el [Recetario de Biopython](http://biopython.org/DIST/docs/tutorial/Tutorial.html). Para la instalación y requisitos consultar https://github.com/biopython/biopython/blob/master/README.rst"
   ]
  },
  {
   "attachments": {},
   "cell_type": "markdown",
   "metadata": {},
   "source": [
    "# Instalación de Biopython\n",
    "\n",
    "Se recomienda la instalación de biopython utilizando [conda]{https://docs.conda.io/projects/conda/en/4.6.0/user-guide/install/macos.html}\n"
   ]
  },
  {
   "cell_type": "code",
   "execution_count": null,
   "metadata": {},
   "outputs": [],
   "source": [
    "conda install -c conda-forge biopython\n",
    "python"
   ]
  },
  {
   "cell_type": "code",
   "execution_count": null,
   "metadata": {},
   "outputs": [],
   "source": [
    "import Bio\n",
    "print(Bio.__version__)"
   ]
  },
  {
   "attachments": {},
   "cell_type": "markdown",
   "metadata": {},
   "source": [
    "Si sale un error después de llamar la librería es porque hay un error de instalación. De lo contrario, está bien por el momento y empezamos a trabajar con secuencias. "
   ]
  },
  {
   "attachments": {},
   "cell_type": "markdown",
   "metadata": {},
   "source": [
    "## Secuencias\n",
    "Aunque una secuencia es un conjunto de letras, biopython tiene un formato especial para definir una secuencia"
   ]
  },
  {
   "cell_type": "code",
   "execution_count": null,
   "metadata": {},
   "outputs": [],
   "source": [
    "from Bio.Seq import Seq\n",
    "my_seq = Seq(\"AGTACACTGGT\")\n",
    "my_seq\n",
    "my_seq.complement()\n",
    "my_seq.reverse_complement()"
   ]
  },
  {
   "attachments": {},
   "cell_type": "markdown",
   "metadata": {},
   "source": [
    "Para entender por qué es importante el complemento y el complemento reverso, recordemos brevemente cómo es la síntesis de proteínas\n",
    "\n",
    "<img src=\"protein_synth.png\" width=400 height=400 />"
   ]
  },
  {
   "attachments": {},
   "cell_type": "markdown",
   "metadata": {},
   "source": [
    "## Múltiples Secuencias\n",
    "Normalmente no escribimos las secuencias \"manualmente\" sino que tenemos un archivo con una o múltiples secuencias. Vamos a trabajar con las secuencias de sars covid que ya descargamos en el directorio **sars_covid19**"
   ]
  },
  {
   "cell_type": "code",
   "execution_count": null,
   "metadata": {},
   "outputs": [],
   "source": [
    "from Bio import SeqIO\n",
    "\n",
    "dna_file = \"Sars_cov.dna.fa\"\n",
    "\n",
    "for record in SeqIO.parse(dna_file, \"fasta\"):\n",
    "    print(record)\n"
   ]
  },
  {
   "attachments": {},
   "cell_type": "markdown",
   "metadata": {},
   "source": [
    "La función SeqIO.parse abre el archivo **input_file** y lo intepreta como un archivo fasta. Como solo hay una secuencia, el for loop solo itera una vez y muestra (\"print\") los atributos de la secuencia. Compárelo con el archivo fasta para entender que significa cada línea.\n",
    "\n",
    "Ahora vamos a extraer la secuencia y calcular su tamaño"
   ]
  },
  {
   "cell_type": "code",
   "execution_count": null,
   "metadata": {},
   "outputs": [],
   "source": [
    "for record in SeqIO.parse(dna_file, \"fasta\"):\n",
    "    print(record.seq)\n",
    "    print(len(record.seq))"
   ]
  },
  {
   "attachments": {},
   "cell_type": "markdown",
   "metadata": {},
   "source": [
    "\n",
    "<div class=\"alert alert-block alert-warning\">\n",
    "<b>Nota:</b> La indentación (la sangría jerárquica luego de una declaración) es muy importante en Python. Si no se respeta, el programa arroja un error  </div>"
   ]
  },
  {
   "attachments": {},
   "cell_type": "markdown",
   "metadata": {},
   "source": [
    "De manera similar se hace con un archivo de múltiples secuencias, por ejemplo el archivo de proteínas. Vamos a iterar sobre las secuencias del archivo \"Sars_cov.pep.fa\" y a desplegar los identificadores"
   ]
  },
  {
   "cell_type": "code",
   "execution_count": null,
   "metadata": {},
   "outputs": [],
   "source": [
    "prot_file = \"Sars_cov.prot.fa\"\n",
    "\n",
    "for record in SeqIO.parse(prot_file, \"fasta\"):\n",
    "    print(record.id)"
   ]
  },
  {
   "attachments": {},
   "cell_type": "markdown",
   "metadata": {},
   "source": [
    "En este archivo hay 12 proteínas de diferentes tamaños y con funciones distintas. Vamos a imprimir su id, su tamaño y su descripción:"
   ]
  },
  {
   "cell_type": "code",
   "execution_count": null,
   "metadata": {},
   "outputs": [],
   "source": [
    "for record in SeqIO.parse(prot_file, \"fasta\"):\n",
    "    print(record.id,len(record.seq),record.description)"
   ]
  },
  {
   "attachments": {},
   "cell_type": "markdown",
   "metadata": {},
   "source": [
    "La descripción tiene mucha información importante pero esta no es muy clara, entonces vamos a extraer el fragmento que contiene la función, vamos a dividir la descripción en items, utilizando la función ``split.()`` y luego le damos el número (**index**) del item entre de interés ``[]`` (es el item 9 pero como python comienza a contar desde 0 entonces es el 8) "
   ]
  },
  {
   "cell_type": "code",
   "execution_count": null,
   "metadata": {},
   "outputs": [],
   "source": [
    "for record in SeqIO.parse(prot_file, \"fasta\"):\n",
    "    print(record.id,len(record.seq),record.description.split()[8])"
   ]
  },
  {
   "attachments": {},
   "cell_type": "markdown",
   "metadata": {},
   "source": [
    "## Escribir secuencias un archivo  \n",
    "Con frecuencia estamos interesados en un subconjunto de los genes o proteínas para realizarun análisis a profundidad de ellos. En este caso vamos a seleccionar las glicoproteínas que son aquellas que codifican la espícula. Esta espícula (\"spike\") es la encargada de mediar la entrada del virus hacia el hospedero y tiene una tasa de mutación mas alta que los otros genes, lo que presumiblemente dió origen a cepas mas virulentas (https://en.wikipedia.org/wiki/Coronavirus_spike_protein)"
   ]
  },
  {
   "cell_type": "code",
   "execution_count": null,
   "metadata": {},
   "outputs": [],
   "source": [
    "from Bio.Seq import Seq\n",
    "from Bio.SeqRecord import SeqRecord\n",
    "\n",
    "for record in SeqIO.parse(prot_file, \"fasta\"):\n",
    "    if (record.description.split()[9] == \"glycoprotein\"):\n",
    "        print(record)"
   ]
  },
  {
   "attachments": {},
   "cell_type": "markdown",
   "metadata": {},
   "source": [
    "Hasta aquí hemos seleccionado las secuencias que contienen el término \"glycoprotein\". Para escribirlas en un archivo en un formato adecuado de secuencias vamos a utilizar la función de biopython  ``Bio.SeqIO.write()`` y a cambiar un poco el estilo. "
   ]
  },
  {
   "cell_type": "code",
   "execution_count": null,
   "metadata": {},
   "outputs": [],
   "source": [
    "glycoproteins = (record for record in SeqIO.parse(prot_file, \"fasta\") if (record.description.split()[9] == \"glycoprotein\"))\n",
    "SeqIO.write(glycoproteins, \"sars_covid19_glycoproteins.fa\", \"fasta\")"
   ]
  },
  {
   "attachments": {},
   "cell_type": "markdown",
   "metadata": {},
   "source": [
    "Donde eperas que esté el archivo? Chequéalo mirando el directorio actual (\"get current working directory\"). Verifica que si se haya generado con el nombre y formatos correctos, y la información que deseamos que contenga. "
   ]
  },
  {
   "cell_type": "code",
   "execution_count": null,
   "metadata": {},
   "outputs": [],
   "source": [
    "import os\n",
    "\n",
    "os. getcwd()\n",
    "os.listdir()"
   ]
  },
  {
   "attachments": {},
   "cell_type": "markdown",
   "metadata": {},
   "source": [
    "Por último, vamos a escribir los comando que utilizamos en un script de python para dejar registro de lo que hicimos y pueda ser repetible"
   ]
  },
  {
   "cell_type": "code",
   "execution_count": null,
   "metadata": {},
   "outputs": [],
   "source": [
    "#!/usr/local/bin/\n",
    "\n",
    "# Script por Laura Salazar Jaramillo\n",
    "# Genera un subconjunto de glicoproteinas de SARS-covid 19\n",
    "\n",
    "# Importamos las librerías necesarias\n",
    "import os\n",
    "import sys\n",
    "\n",
    "import Bio\n",
    "from Bio import SeqIO\n",
    "from Bio.Seq import Seq\n",
    "\n",
    "# Archivos de entrada (inputs)\n",
    "dna_file = \"Sars_cov.dna.fa\"\n",
    "prot_file = \"Sars_cov.prot.fa\"\n",
    "\n",
    "\n",
    "# Listamos el tamano del genoma\n",
    "for record in SeqIO.parse(dna_file, \"fasta\"):\n",
    "    print(\"La longitud en nc del genoma es:\",len(record.seq))\n",
    "\n",
    "# Listamos los id y longitudes de las proteínas\n",
    "for record in SeqIO.parse(prot_file, \"fasta\"):\n",
    "    print(record.id,len(record.seq),record.description.split()[9])\n",
    "\n",
    "# Seleccionamos las glicoproteínas y las guardamos en un archivo aparte\n",
    "glycoproteins = (record for record in SeqIO.parse(prot_file, \"fasta\") if (record.description.split()[9] == \"glycoprotein\"))\n",
    "SeqIO.write(glycoproteins, \"sars_covid19_glycoproteins.fa\", \"fasta\")"
   ]
  },
  {
   "attachments": {},
   "cell_type": "markdown",
   "metadata": {},
   "source": [
    "Este script se puede ejecutar en la terminal escribiendo los comandos"
   ]
  },
  {
   "cell_type": "code",
   "execution_count": null,
   "metadata": {
    "vscode": {
     "languageId": "shellscript"
    }
   },
   "outputs": [],
   "source": [
    "python3 glycoproteins.py"
   ]
  },
  {
   "attachments": {},
   "cell_type": "markdown",
   "metadata": {},
   "source": [
    "# Introducción a Github\n",
    "\n",
    "[GitHub](https://github.com) es una plataforma muy útil donde se puede almacenar coódigo, compartirlo, revisarlo, actualizarlo y en general colaborar con programas y códigos. Para hacer uso de esta plataforma hay que registrarse con un email:\n",
    "- Entre a la página web\n",
    "- Haga Click en \"Sign Up\"\n",
    "- Suministre un correo electrónico y un password\n",
    "\n",
    "Nota: Si ya tiene cuenta en GitHub, tan solo click en Sign in y acceda con su correo y contraseña"
   ]
  },
  {
   "attachments": {},
   "cell_type": "markdown",
   "metadata": {},
   "source": [
    "## Crear un repositorio\n",
    "\n",
    "Un repositorio es un conjunto de archivos que hacen parte de un proyecto. Por ejemplo, estas clases están disponibles en mi repositorio de gitHub \"BiologíaComputacional\" https://github.com/lauraalazar/BiologiaComputacional/ \n",
    "Un repositorio permite compartir los archivos del proyecto, actualizarlos y guardar versiones pasadas. También permite que otros colaboren de forma sistemática y organizada. Una vez hagas el registro, recibirá un email para entrar a su cuenta de GitHub\n"
   ]
  },
  {
   "attachments": {},
   "cell_type": "markdown",
   "metadata": {},
   "source": [
    "<img src=\"github_newrepo.png\" width=500 height=400 />"
   ]
  },
  {
   "attachments": {},
   "cell_type": "markdown",
   "metadata": {},
   "source": [
    "- Entrar a la cuenta con el email y clave registradas\n",
    "- Hacer click en **+** y **New repository**\n",
    "- Darle un nombre al repositorio. Ej, CompBio\n",
    "- Hacer una breve descripción de lo que se trata. Ej: tareas y ejercicios para el curso\n",
    "- Dar click en **Create repository**\n",
    "- Darle click en **Add file**\n",
    "- Arrastrar o subir el archivo que desea compartir\n",
    "- Escribir un mensaje describiendo el contenido de la carga en el campo de comentarios\n",
    "- Dar click en **Commit changes** para completar la carga"
   ]
  },
  {
   "attachments": {},
   "cell_type": "markdown",
   "metadata": {},
   "source": [
    "## Crear una Bifurcación (Fork)\n",
    "\n",
    "En gitHub es posible contribuir a los repositorios de otros usuarios. La contribución se hace en forma de una rama del código o documento que el usuario dueño del repositorio puede decidir \"merge\" ... Para comenzar con la contribución:\n",
    "- Buscar el repositorio de interés. P.e. https://github.com/UniversidadEAFIT/compubiol_course\n",
    "- Dar click en **Fork** en la parte superior derecha del cuadro interno\n",
    "- Aceptar bifurcación\n",
    "- Desde este momento, este repositorio aparecerá en tu seción y puedes empezar a contribuir!\n"
   ]
  },
  {
   "attachments": {},
   "cell_type": "markdown",
   "metadata": {},
   "source": [
    "## GitHub local\n",
    "\n",
    "Una de las herramientas más interesantes con gitHub es poder **clonar** repositorios de otros usuarios y mantener actualizados los repositorios personales. Para esto se puede instalar gitHub de manera [local](https://git-scm.com/downloads y sincronizar con la cuenta personal). Para hacer esto es necesario:\n",
    "- Configurar el usuario y correo para correrlo desde la terminal"
   ]
  },
  {
   "cell_type": "code",
   "execution_count": null,
   "metadata": {
    "vscode": {
     "languageId": "shellscript"
    }
   },
   "outputs": [],
   "source": [
    "git config --global user.name \"Mona Lisa\"\n",
    "git config --global user.email \"email@example.com\""
   ]
  },
  {
   "attachments": {},
   "cell_type": "markdown",
   "metadata": {},
   "source": [
    "- Conectar el Git local con GitHub sonde se petirá el password https://docs.github.com/en/get-started/getting-started-with-git/caching-your-github-credentials-in-git"
   ]
  },
  {
   "attachments": {},
   "cell_type": "markdown",
   "metadata": {},
   "source": [
    "## Clone\n",
    "\n",
    "Esta función le permitirá bajar al computador local la totalidad del repositorio de interés. Es importante descargarlo en una carpeta conocida ya que luego debemos volver a acceder a ella, lo cual se puede hacer normalmente como a cualquier directorio"
   ]
  },
  {
   "cell_type": "code",
   "execution_count": null,
   "metadata": {
    "vscode": {
     "languageId": "shellscript"
    }
   },
   "outputs": [],
   "source": [
    "git clone git@github.com:lauraalazar/compubiol_course.git"
   ]
  },
  {
   "attachments": {},
   "cell_type": "markdown",
   "metadata": {},
   "source": [
    "dentro del directorio donde se ejecutó el comando debe haber un directorio llamado compubiol_course"
   ]
  },
  {
   "attachments": {},
   "cell_type": "markdown",
   "metadata": {},
   "source": [
    "## Push\n",
    "Esta función le permitirá subir archivos a un repositorio clonado en el computador local. Primero copie el archivo o carpeta que desea subir. ej: "
   ]
  },
  {
   "cell_type": "code",
   "execution_count": null,
   "metadata": {
    "vscode": {
     "languageId": "shellscript"
    }
   },
   "outputs": [],
   "source": [
    "cd /path/of/compubiol_course/20232/\n",
    "mkdir fulana\n",
    "cd fulana\n",
    "cp /some/path/report.sh /path/of/compubiol_course/20232/fulana/\n",
    "git add report.sh\n",
    "git commit -m \"adicionar algún mensaje\"\n",
    "git push origin master"
   ]
  },
  {
   "attachments": {},
   "cell_type": "markdown",
   "metadata": {},
   "source": [
    "## Pull\n",
    "Esta función puede hacerse desde el explorador en Go to your Project page -> Pull requests tab -> click “New pull request”."
   ]
  },
  {
   "attachments": {},
   "cell_type": "markdown",
   "metadata": {},
   "source": [
    "<div class=\"alert alert-block alert-info\">\n",
    "<b>Ejercicio Evaluable</b> \n",
    "1) Ejecute el script de python que realizamos en la primera parte\n",
    "6) Ejecute el comando: history >> reporte2.txt\n",
    "7) Suba por vía de un **pull request** el reporte y el script al repositorio https://github.com/UniversidadEAFIT/compubiol_course/20232\n",
    "  </div>"
   ]
  }
 ],
 "metadata": {
  "kernelspec": {
   "display_name": "Python 3 (ipykernel)",
   "language": "python",
   "name": "python3"
  },
  "language_info": {
   "codemirror_mode": {
    "name": "ipython",
    "version": 3
   },
   "file_extension": ".py",
   "mimetype": "text/x-python",
   "name": "python",
   "nbconvert_exporter": "python",
   "pygments_lexer": "ipython3",
   "version": "3.8.1"
  },
  "widgets": {
   "application/vnd.jupyter.widget-state+json": {
    "state": {},
    "version_major": 2,
    "version_minor": 0
   }
  }
 },
 "nbformat": 4,
 "nbformat_minor": 4
}
